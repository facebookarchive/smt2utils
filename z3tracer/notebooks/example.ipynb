{
 "cells": [
  {
   "cell_type": "code",
   "execution_count": 2,
   "metadata": {},
   "outputs": [
    {
     "data": {
      "text/plain": [
       "sccache: true\n"
      ]
     },
     "execution_count": 2,
     "metadata": {},
     "output_type": "execute_result"
    }
   ],
   "source": [
    ":sccache 1\n",
    "// Skip this or run `cargo install sccache`"
   ]
  },
  {
   "cell_type": "code",
   "execution_count": 4,
   "metadata": {},
   "outputs": [],
   "source": [
    ":dep z3tracer\n",
    "// Or use `:dep z3tracer = { path = \"..\" }` for the local version."
   ]
  },
  {
   "cell_type": "code",
   "execution_count": 6,
   "metadata": {},
   "outputs": [],
   "source": [
    ":dep plotters = { default_features = false, features = [\"evcxr\", \"line_series\"] }"
   ]
  },
  {
   "cell_type": "code",
   "execution_count": 7,
   "metadata": {},
   "outputs": [
    {
     "data": {
      "text/plain": [
       "Error format: {:?} (errors must implement std::fmt::Debug)\n"
      ]
     },
     "execution_count": 7,
     "metadata": {},
     "output_type": "execute_result"
    }
   ],
   "source": [
    ":efmt {:?}"
   ]
  },
  {
   "cell_type": "code",
   "execution_count": 8,
   "metadata": {},
   "outputs": [
    {
     "data": {
      "text/plain": [
       "Optimization: 3\n"
      ]
     },
     "execution_count": 8,
     "metadata": {},
     "output_type": "execute_result"
    }
   ],
   "source": [
    ":opt 3"
   ]
  },
  {
   "cell_type": "code",
   "execution_count": 20,
   "metadata": {},
   "outputs": [],
   "source": [
    "use z3tracer::{syntax::*, model::*};\n",
    "use std::collections::*;\n",
    "use std::str::FromStr;\n",
    "use plotters::prelude::*;\n",
    "use plotters::evcxr::SVGWrapper;"
   ]
  },
  {
   "cell_type": "code",
   "execution_count": 10,
   "metadata": {},
   "outputs": [
    {
     "ename": "Error",
     "evalue": "",
     "output_type": "error",
     "traceback": [
      ""
     ]
    }
   ],
   "source": [
    ":last_error_json\n",
    "// BUG WORKAROUND: In case of mysteriously truncated error 'consider importing this struct', run the command above again\n",
    "// to print a detailed error and find the import that is actually missing.\n",
    "//\n",
    "// See also :help for more useful commands"
   ]
  },
  {
   "cell_type": "code",
   "execution_count": 11,
   "metadata": {},
   "outputs": [],
   "source": [
    "/// Helper function to process files.\n",
    "fn process_file(path: &str) -> std::io::Result<Model> {\n",
    "    let file = std::io::BufReader::new(std::fs::File::open(path)?);\n",
    "    // Inject non-default configurations here with Model::new(config).\n",
    "    let mut model = Model::default();\n",
    "    if let Err(le) = model.process(Some(path.to_string()), file) {\n",
    "        println!(\"Error at {:?}: {:?}\", le.position, le.error);\n",
    "    }\n",
    "    Ok(model)\n",
    "}\n",
    "\n",
    "/// Helper trait to print es by their id.\n",
    "trait ModelExt {\n",
    "    fn id2s(&self, id: &Ident) -> String;    \n",
    "}\n",
    "\n",
    "impl ModelExt for Model {\n",
    "    fn id2s(&self, id: &Ident) -> String {\n",
    "        self.id_to_sexp(&BTreeMap::new(), id).unwrap()\n",
    "    }        \n",
    "}"
   ]
  },
  {
   "cell_type": "code",
   "execution_count": 12,
   "metadata": {},
   "outputs": [],
   "source": [
    "// Process some input file obtained with `z3 trace=true proof=true ..`\n",
    "let model = process_file(\"../tests/data/file1.log\")?;"
   ]
  },
  {
   "cell_type": "code",
   "execution_count": 13,
   "metadata": {},
   "outputs": [
    {
     "data": {
      "text/plain": [
       "46"
      ]
     },
     "execution_count": 13,
     "metadata": {},
     "output_type": "execute_result"
    }
   ],
   "source": [
    "// Compute top instantiated terms.\n",
    "let mut top = model.most_instantiated_terms();\n",
    "top.len()"
   ]
  },
  {
   "cell_type": "code",
   "execution_count": 14,
   "metadata": {},
   "outputs": [],
   "source": [
    "let inst_tss = top.iter().map(|(_count, id)| {\n",
    "    let mut tss = model.term_data(id).unwrap().instantiations.iter().filter_map(|key| {\n",
    "        let qi = model.instantiations().get(key).unwrap();\n",
    "        qi.data.as_ref().map(|d| model.term_data(&d.term).unwrap().timestamp)\n",
    "    }).collect::<Vec<_>>();\n",
    "    tss.sort();\n",
    "    let name = match model.term(id).unwrap() { Term::Quant { name, .. } => name, _ => \"??\" };\n",
    "    (name.to_string(), tss)\n",
    "}).collect::<Vec<_>>();"
   ]
  },
  {
   "cell_type": "code",
   "execution_count": 15,
   "metadata": {},
   "outputs": [
    {
     "data": {
      "text/plain": [
       "443166"
      ]
     },
     "execution_count": 15,
     "metadata": {},
     "output_type": "execute_result"
    }
   ],
   "source": [
    "// Maximum timestamp (i.e. currently, the number of lines in the Z3 log)\n",
    "let max_ts = model.processed_logs();\n",
    "max_ts"
   ]
  },
  {
   "cell_type": "code",
   "execution_count": 16,
   "metadata": {},
   "outputs": [
    {
     "data": {
      "text/plain": [
       "359"
      ]
     },
     "execution_count": 16,
     "metadata": {},
     "output_type": "execute_result"
    }
   ],
   "source": [
    "// Maximum number of instantiations for the top term.\n",
    "let max_count = top.peek().unwrap().0;\n",
    "max_count"
   ]
  },
  {
   "cell_type": "code",
   "execution_count": 32,
   "metadata": {},
   "outputs": [
    {
     "data": {
      "text/html": [
       "<div style=\"\"><svg width=\"800\" height=\"600\" viewBox=\"0 0 800 600\" xmlns=\"http://www.w3.org/2000/svg\">\n",
       "<rect x=\"0\" y=\"0\" width=\"799\" height=\"599\" opacity=\"1\" fill=\"#FFFFFF\" stroke=\"none\"/>\n",
       "<text x=\"400\" y=\"15\" dy=\"0.76em\" text-anchor=\"middle\" font-family=\"Arial\" font-size=\"24.193548387096776\" opacity=\"1\" fill=\"#000000\">\n",
       "Top 10 Quantifiers Instantiations\n",
       "</text>\n",
       "<line opacity=\"0.1\" stroke=\"#000000\" stroke-width=\"1\" x1=\"60\" y1=\"549\" x2=\"60\" y2=\"44\"/>\n",
       "<line opacity=\"0.1\" stroke=\"#000000\" stroke-width=\"1\" x1=\"68\" y1=\"549\" x2=\"68\" y2=\"44\"/>\n",
       "<line opacity=\"0.1\" stroke=\"#000000\" stroke-width=\"1\" x1=\"76\" y1=\"549\" x2=\"76\" y2=\"44\"/>\n",
       "<line opacity=\"0.1\" stroke=\"#000000\" stroke-width=\"1\" x1=\"84\" y1=\"549\" x2=\"84\" y2=\"44\"/>\n",
       "<line opacity=\"0.1\" stroke=\"#000000\" stroke-width=\"1\" x1=\"92\" y1=\"549\" x2=\"92\" y2=\"44\"/>\n",
       "<line opacity=\"0.1\" stroke=\"#000000\" stroke-width=\"1\" x1=\"101\" y1=\"549\" x2=\"101\" y2=\"44\"/>\n",
       "<line opacity=\"0.1\" stroke=\"#000000\" stroke-width=\"1\" x1=\"109\" y1=\"549\" x2=\"109\" y2=\"44\"/>\n",
       "<line opacity=\"0.1\" stroke=\"#000000\" stroke-width=\"1\" x1=\"117\" y1=\"549\" x2=\"117\" y2=\"44\"/>\n",
       "<line opacity=\"0.1\" stroke=\"#000000\" stroke-width=\"1\" x1=\"125\" y1=\"549\" x2=\"125\" y2=\"44\"/>\n",
       "<line opacity=\"0.1\" stroke=\"#000000\" stroke-width=\"1\" x1=\"134\" y1=\"549\" x2=\"134\" y2=\"44\"/>\n",
       "<line opacity=\"0.1\" stroke=\"#000000\" stroke-width=\"1\" x1=\"142\" y1=\"549\" x2=\"142\" y2=\"44\"/>\n",
       "<line opacity=\"0.1\" stroke=\"#000000\" stroke-width=\"1\" x1=\"150\" y1=\"549\" x2=\"150\" y2=\"44\"/>\n",
       "<line opacity=\"0.1\" stroke=\"#000000\" stroke-width=\"1\" x1=\"158\" y1=\"549\" x2=\"158\" y2=\"44\"/>\n",
       "<line opacity=\"0.1\" stroke=\"#000000\" stroke-width=\"1\" x1=\"167\" y1=\"549\" x2=\"167\" y2=\"44\"/>\n",
       "<line opacity=\"0.1\" stroke=\"#000000\" stroke-width=\"1\" x1=\"175\" y1=\"549\" x2=\"175\" y2=\"44\"/>\n",
       "<line opacity=\"0.1\" stroke=\"#000000\" stroke-width=\"1\" x1=\"183\" y1=\"549\" x2=\"183\" y2=\"44\"/>\n",
       "<line opacity=\"0.1\" stroke=\"#000000\" stroke-width=\"1\" x1=\"191\" y1=\"549\" x2=\"191\" y2=\"44\"/>\n",
       "<line opacity=\"0.1\" stroke=\"#000000\" stroke-width=\"1\" x1=\"200\" y1=\"549\" x2=\"200\" y2=\"44\"/>\n",
       "<line opacity=\"0.1\" stroke=\"#000000\" stroke-width=\"1\" x1=\"208\" y1=\"549\" x2=\"208\" y2=\"44\"/>\n",
       "<line opacity=\"0.1\" stroke=\"#000000\" stroke-width=\"1\" x1=\"216\" y1=\"549\" x2=\"216\" y2=\"44\"/>\n",
       "<line opacity=\"0.1\" stroke=\"#000000\" stroke-width=\"1\" x1=\"224\" y1=\"549\" x2=\"224\" y2=\"44\"/>\n",
       "<line opacity=\"0.1\" stroke=\"#000000\" stroke-width=\"1\" x1=\"232\" y1=\"549\" x2=\"232\" y2=\"44\"/>\n",
       "<line opacity=\"0.1\" stroke=\"#000000\" stroke-width=\"1\" x1=\"241\" y1=\"549\" x2=\"241\" y2=\"44\"/>\n",
       "<line opacity=\"0.1\" stroke=\"#000000\" stroke-width=\"1\" x1=\"249\" y1=\"549\" x2=\"249\" y2=\"44\"/>\n",
       "<line opacity=\"0.1\" stroke=\"#000000\" stroke-width=\"1\" x1=\"257\" y1=\"549\" x2=\"257\" y2=\"44\"/>\n",
       "<line opacity=\"0.1\" stroke=\"#000000\" stroke-width=\"1\" x1=\"265\" y1=\"549\" x2=\"265\" y2=\"44\"/>\n",
       "<line opacity=\"0.1\" stroke=\"#000000\" stroke-width=\"1\" x1=\"274\" y1=\"549\" x2=\"274\" y2=\"44\"/>\n",
       "<line opacity=\"0.1\" stroke=\"#000000\" stroke-width=\"1\" x1=\"282\" y1=\"549\" x2=\"282\" y2=\"44\"/>\n",
       "<line opacity=\"0.1\" stroke=\"#000000\" stroke-width=\"1\" x1=\"290\" y1=\"549\" x2=\"290\" y2=\"44\"/>\n",
       "<line opacity=\"0.1\" stroke=\"#000000\" stroke-width=\"1\" x1=\"298\" y1=\"549\" x2=\"298\" y2=\"44\"/>\n",
       "<line opacity=\"0.1\" stroke=\"#000000\" stroke-width=\"1\" x1=\"307\" y1=\"549\" x2=\"307\" y2=\"44\"/>\n",
       "<line opacity=\"0.1\" stroke=\"#000000\" stroke-width=\"1\" x1=\"315\" y1=\"549\" x2=\"315\" y2=\"44\"/>\n",
       "<line opacity=\"0.1\" stroke=\"#000000\" stroke-width=\"1\" x1=\"323\" y1=\"549\" x2=\"323\" y2=\"44\"/>\n",
       "<line opacity=\"0.1\" stroke=\"#000000\" stroke-width=\"1\" x1=\"331\" y1=\"549\" x2=\"331\" y2=\"44\"/>\n",
       "<line opacity=\"0.1\" stroke=\"#000000\" stroke-width=\"1\" x1=\"340\" y1=\"549\" x2=\"340\" y2=\"44\"/>\n",
       "<line opacity=\"0.1\" stroke=\"#000000\" stroke-width=\"1\" x1=\"348\" y1=\"549\" x2=\"348\" y2=\"44\"/>\n",
       "<line opacity=\"0.1\" stroke=\"#000000\" stroke-width=\"1\" x1=\"356\" y1=\"549\" x2=\"356\" y2=\"44\"/>\n",
       "<line opacity=\"0.1\" stroke=\"#000000\" stroke-width=\"1\" x1=\"364\" y1=\"549\" x2=\"364\" y2=\"44\"/>\n",
       "<line opacity=\"0.1\" stroke=\"#000000\" stroke-width=\"1\" x1=\"372\" y1=\"549\" x2=\"372\" y2=\"44\"/>\n",
       "<line opacity=\"0.1\" stroke=\"#000000\" stroke-width=\"1\" x1=\"381\" y1=\"549\" x2=\"381\" y2=\"44\"/>\n",
       "<line opacity=\"0.1\" stroke=\"#000000\" stroke-width=\"1\" x1=\"389\" y1=\"549\" x2=\"389\" y2=\"44\"/>\n",
       "<line opacity=\"0.1\" stroke=\"#000000\" stroke-width=\"1\" x1=\"397\" y1=\"549\" x2=\"397\" y2=\"44\"/>\n",
       "<line opacity=\"0.1\" stroke=\"#000000\" stroke-width=\"1\" x1=\"405\" y1=\"549\" x2=\"405\" y2=\"44\"/>\n",
       "<line opacity=\"0.1\" stroke=\"#000000\" stroke-width=\"1\" x1=\"414\" y1=\"549\" x2=\"414\" y2=\"44\"/>\n",
       "<line opacity=\"0.1\" stroke=\"#000000\" stroke-width=\"1\" x1=\"422\" y1=\"549\" x2=\"422\" y2=\"44\"/>\n",
       "<line opacity=\"0.1\" stroke=\"#000000\" stroke-width=\"1\" x1=\"430\" y1=\"549\" x2=\"430\" y2=\"44\"/>\n",
       "<line opacity=\"0.1\" stroke=\"#000000\" stroke-width=\"1\" x1=\"438\" y1=\"549\" x2=\"438\" y2=\"44\"/>\n",
       "<line opacity=\"0.1\" stroke=\"#000000\" stroke-width=\"1\" x1=\"447\" y1=\"549\" x2=\"447\" y2=\"44\"/>\n",
       "<line opacity=\"0.1\" stroke=\"#000000\" stroke-width=\"1\" x1=\"455\" y1=\"549\" x2=\"455\" y2=\"44\"/>\n",
       "<line opacity=\"0.1\" stroke=\"#000000\" stroke-width=\"1\" x1=\"463\" y1=\"549\" x2=\"463\" y2=\"44\"/>\n",
       "<line opacity=\"0.1\" stroke=\"#000000\" stroke-width=\"1\" x1=\"471\" y1=\"549\" x2=\"471\" y2=\"44\"/>\n",
       "<line opacity=\"0.1\" stroke=\"#000000\" stroke-width=\"1\" x1=\"480\" y1=\"549\" x2=\"480\" y2=\"44\"/>\n",
       "<line opacity=\"0.1\" stroke=\"#000000\" stroke-width=\"1\" x1=\"488\" y1=\"549\" x2=\"488\" y2=\"44\"/>\n",
       "<line opacity=\"0.1\" stroke=\"#000000\" stroke-width=\"1\" x1=\"496\" y1=\"549\" x2=\"496\" y2=\"44\"/>\n",
       "<line opacity=\"0.1\" stroke=\"#000000\" stroke-width=\"1\" x1=\"504\" y1=\"549\" x2=\"504\" y2=\"44\"/>\n",
       "<line opacity=\"0.1\" stroke=\"#000000\" stroke-width=\"1\" x1=\"512\" y1=\"549\" x2=\"512\" y2=\"44\"/>\n",
       "<line opacity=\"0.1\" stroke=\"#000000\" stroke-width=\"1\" x1=\"521\" y1=\"549\" x2=\"521\" y2=\"44\"/>\n",
       "<line opacity=\"0.1\" stroke=\"#000000\" stroke-width=\"1\" x1=\"529\" y1=\"549\" x2=\"529\" y2=\"44\"/>\n",
       "<line opacity=\"0.1\" stroke=\"#000000\" stroke-width=\"1\" x1=\"537\" y1=\"549\" x2=\"537\" y2=\"44\"/>\n",
       "<line opacity=\"0.1\" stroke=\"#000000\" stroke-width=\"1\" x1=\"545\" y1=\"549\" x2=\"545\" y2=\"44\"/>\n",
       "<line opacity=\"0.1\" stroke=\"#000000\" stroke-width=\"1\" x1=\"554\" y1=\"549\" x2=\"554\" y2=\"44\"/>\n",
       "<line opacity=\"0.1\" stroke=\"#000000\" stroke-width=\"1\" x1=\"562\" y1=\"549\" x2=\"562\" y2=\"44\"/>\n",
       "<line opacity=\"0.1\" stroke=\"#000000\" stroke-width=\"1\" x1=\"570\" y1=\"549\" x2=\"570\" y2=\"44\"/>\n",
       "<line opacity=\"0.1\" stroke=\"#000000\" stroke-width=\"1\" x1=\"578\" y1=\"549\" x2=\"578\" y2=\"44\"/>\n",
       "<line opacity=\"0.1\" stroke=\"#000000\" stroke-width=\"1\" x1=\"587\" y1=\"549\" x2=\"587\" y2=\"44\"/>\n",
       "<line opacity=\"0.1\" stroke=\"#000000\" stroke-width=\"1\" x1=\"595\" y1=\"549\" x2=\"595\" y2=\"44\"/>\n",
       "<line opacity=\"0.1\" stroke=\"#000000\" stroke-width=\"1\" x1=\"603\" y1=\"549\" x2=\"603\" y2=\"44\"/>\n",
       "<line opacity=\"0.1\" stroke=\"#000000\" stroke-width=\"1\" x1=\"611\" y1=\"549\" x2=\"611\" y2=\"44\"/>\n",
       "<line opacity=\"0.1\" stroke=\"#000000\" stroke-width=\"1\" x1=\"620\" y1=\"549\" x2=\"620\" y2=\"44\"/>\n",
       "<line opacity=\"0.1\" stroke=\"#000000\" stroke-width=\"1\" x1=\"628\" y1=\"549\" x2=\"628\" y2=\"44\"/>\n",
       "<line opacity=\"0.1\" stroke=\"#000000\" stroke-width=\"1\" x1=\"636\" y1=\"549\" x2=\"636\" y2=\"44\"/>\n",
       "<line opacity=\"0.1\" stroke=\"#000000\" stroke-width=\"1\" x1=\"644\" y1=\"549\" x2=\"644\" y2=\"44\"/>\n",
       "<line opacity=\"0.1\" stroke=\"#000000\" stroke-width=\"1\" x1=\"653\" y1=\"549\" x2=\"653\" y2=\"44\"/>\n",
       "<line opacity=\"0.1\" stroke=\"#000000\" stroke-width=\"1\" x1=\"661\" y1=\"549\" x2=\"661\" y2=\"44\"/>\n",
       "<line opacity=\"0.1\" stroke=\"#000000\" stroke-width=\"1\" x1=\"669\" y1=\"549\" x2=\"669\" y2=\"44\"/>\n",
       "<line opacity=\"0.1\" stroke=\"#000000\" stroke-width=\"1\" x1=\"677\" y1=\"549\" x2=\"677\" y2=\"44\"/>\n",
       "<line opacity=\"0.1\" stroke=\"#000000\" stroke-width=\"1\" x1=\"685\" y1=\"549\" x2=\"685\" y2=\"44\"/>\n",
       "<line opacity=\"0.1\" stroke=\"#000000\" stroke-width=\"1\" x1=\"694\" y1=\"549\" x2=\"694\" y2=\"44\"/>\n",
       "<line opacity=\"0.1\" stroke=\"#000000\" stroke-width=\"1\" x1=\"702\" y1=\"549\" x2=\"702\" y2=\"44\"/>\n",
       "<line opacity=\"0.1\" stroke=\"#000000\" stroke-width=\"1\" x1=\"710\" y1=\"549\" x2=\"710\" y2=\"44\"/>\n",
       "<line opacity=\"0.1\" stroke=\"#000000\" stroke-width=\"1\" x1=\"718\" y1=\"549\" x2=\"718\" y2=\"44\"/>\n",
       "<line opacity=\"0.1\" stroke=\"#000000\" stroke-width=\"1\" x1=\"727\" y1=\"549\" x2=\"727\" y2=\"44\"/>\n",
       "<line opacity=\"0.1\" stroke=\"#000000\" stroke-width=\"1\" x1=\"735\" y1=\"549\" x2=\"735\" y2=\"44\"/>\n",
       "<line opacity=\"0.1\" stroke=\"#000000\" stroke-width=\"1\" x1=\"743\" y1=\"549\" x2=\"743\" y2=\"44\"/>\n",
       "<line opacity=\"0.1\" stroke=\"#000000\" stroke-width=\"1\" x1=\"751\" y1=\"549\" x2=\"751\" y2=\"44\"/>\n",
       "<line opacity=\"0.1\" stroke=\"#000000\" stroke-width=\"1\" x1=\"760\" y1=\"549\" x2=\"760\" y2=\"44\"/>\n",
       "<line opacity=\"0.1\" stroke=\"#000000\" stroke-width=\"1\" x1=\"768\" y1=\"549\" x2=\"768\" y2=\"44\"/>\n",
       "<line opacity=\"0.1\" stroke=\"#000000\" stroke-width=\"1\" x1=\"776\" y1=\"549\" x2=\"776\" y2=\"44\"/>\n",
       "<line opacity=\"0.1\" stroke=\"#000000\" stroke-width=\"1\" x1=\"784\" y1=\"549\" x2=\"784\" y2=\"44\"/>\n",
       "<line opacity=\"0.1\" stroke=\"#000000\" stroke-width=\"1\" x1=\"60\" y1=\"549\" x2=\"790\" y2=\"549\"/>\n",
       "<line opacity=\"0.1\" stroke=\"#000000\" stroke-width=\"1\" x1=\"60\" y1=\"541\" x2=\"790\" y2=\"541\"/>\n",
       "<line opacity=\"0.1\" stroke=\"#000000\" stroke-width=\"1\" x1=\"60\" y1=\"534\" x2=\"790\" y2=\"534\"/>\n",
       "<line opacity=\"0.1\" stroke=\"#000000\" stroke-width=\"1\" x1=\"60\" y1=\"527\" x2=\"790\" y2=\"527\"/>\n",
       "<line opacity=\"0.1\" stroke=\"#000000\" stroke-width=\"1\" x1=\"60\" y1=\"520\" x2=\"790\" y2=\"520\"/>\n",
       "<line opacity=\"0.1\" stroke=\"#000000\" stroke-width=\"1\" x1=\"60\" y1=\"513\" x2=\"790\" y2=\"513\"/>\n",
       "<line opacity=\"0.1\" stroke=\"#000000\" stroke-width=\"1\" x1=\"60\" y1=\"506\" x2=\"790\" y2=\"506\"/>\n",
       "<line opacity=\"0.1\" stroke=\"#000000\" stroke-width=\"1\" x1=\"60\" y1=\"499\" x2=\"790\" y2=\"499\"/>\n",
       "<line opacity=\"0.1\" stroke=\"#000000\" stroke-width=\"1\" x1=\"60\" y1=\"492\" x2=\"790\" y2=\"492\"/>\n",
       "<line opacity=\"0.1\" stroke=\"#000000\" stroke-width=\"1\" x1=\"60\" y1=\"485\" x2=\"790\" y2=\"485\"/>\n",
       "<line opacity=\"0.1\" stroke=\"#000000\" stroke-width=\"1\" x1=\"60\" y1=\"478\" x2=\"790\" y2=\"478\"/>\n",
       "<line opacity=\"0.1\" stroke=\"#000000\" stroke-width=\"1\" x1=\"60\" y1=\"471\" x2=\"790\" y2=\"471\"/>\n",
       "<line opacity=\"0.1\" stroke=\"#000000\" stroke-width=\"1\" x1=\"60\" y1=\"464\" x2=\"790\" y2=\"464\"/>\n",
       "<line opacity=\"0.1\" stroke=\"#000000\" stroke-width=\"1\" x1=\"60\" y1=\"457\" x2=\"790\" y2=\"457\"/>\n",
       "<line opacity=\"0.1\" stroke=\"#000000\" stroke-width=\"1\" x1=\"60\" y1=\"450\" x2=\"790\" y2=\"450\"/>\n",
       "<line opacity=\"0.1\" stroke=\"#000000\" stroke-width=\"1\" x1=\"60\" y1=\"443\" x2=\"790\" y2=\"443\"/>\n",
       "<line opacity=\"0.1\" stroke=\"#000000\" stroke-width=\"1\" x1=\"60\" y1=\"436\" x2=\"790\" y2=\"436\"/>\n",
       "<line opacity=\"0.1\" stroke=\"#000000\" stroke-width=\"1\" x1=\"60\" y1=\"429\" x2=\"790\" y2=\"429\"/>\n",
       "<line opacity=\"0.1\" stroke=\"#000000\" stroke-width=\"1\" x1=\"60\" y1=\"422\" x2=\"790\" y2=\"422\"/>\n",
       "<line opacity=\"0.1\" stroke=\"#000000\" stroke-width=\"1\" x1=\"60\" y1=\"415\" x2=\"790\" y2=\"415\"/>\n",
       "<line opacity=\"0.1\" stroke=\"#000000\" stroke-width=\"1\" x1=\"60\" y1=\"408\" x2=\"790\" y2=\"408\"/>\n",
       "<line opacity=\"0.1\" stroke=\"#000000\" stroke-width=\"1\" x1=\"60\" y1=\"401\" x2=\"790\" y2=\"401\"/>\n",
       "<line opacity=\"0.1\" stroke=\"#000000\" stroke-width=\"1\" x1=\"60\" y1=\"394\" x2=\"790\" y2=\"394\"/>\n",
       "<line opacity=\"0.1\" stroke=\"#000000\" stroke-width=\"1\" x1=\"60\" y1=\"387\" x2=\"790\" y2=\"387\"/>\n",
       "<line opacity=\"0.1\" stroke=\"#000000\" stroke-width=\"1\" x1=\"60\" y1=\"380\" x2=\"790\" y2=\"380\"/>\n",
       "<line opacity=\"0.1\" stroke=\"#000000\" stroke-width=\"1\" x1=\"60\" y1=\"373\" x2=\"790\" y2=\"373\"/>\n",
       "<line opacity=\"0.1\" stroke=\"#000000\" stroke-width=\"1\" x1=\"60\" y1=\"366\" x2=\"790\" y2=\"366\"/>\n",
       "<line opacity=\"0.1\" stroke=\"#000000\" stroke-width=\"1\" x1=\"60\" y1=\"359\" x2=\"790\" y2=\"359\"/>\n",
       "<line opacity=\"0.1\" stroke=\"#000000\" stroke-width=\"1\" x1=\"60\" y1=\"352\" x2=\"790\" y2=\"352\"/>\n",
       "<line opacity=\"0.1\" stroke=\"#000000\" stroke-width=\"1\" x1=\"60\" y1=\"345\" x2=\"790\" y2=\"345\"/>\n",
       "<line opacity=\"0.1\" stroke=\"#000000\" stroke-width=\"1\" x1=\"60\" y1=\"337\" x2=\"790\" y2=\"337\"/>\n",
       "<line opacity=\"0.1\" stroke=\"#000000\" stroke-width=\"1\" x1=\"60\" y1=\"330\" x2=\"790\" y2=\"330\"/>\n",
       "<line opacity=\"0.1\" stroke=\"#000000\" stroke-width=\"1\" x1=\"60\" y1=\"323\" x2=\"790\" y2=\"323\"/>\n",
       "<line opacity=\"0.1\" stroke=\"#000000\" stroke-width=\"1\" x1=\"60\" y1=\"316\" x2=\"790\" y2=\"316\"/>\n",
       "<line opacity=\"0.1\" stroke=\"#000000\" stroke-width=\"1\" x1=\"60\" y1=\"309\" x2=\"790\" y2=\"309\"/>\n",
       "<line opacity=\"0.1\" stroke=\"#000000\" stroke-width=\"1\" x1=\"60\" y1=\"302\" x2=\"790\" y2=\"302\"/>\n",
       "<line opacity=\"0.1\" stroke=\"#000000\" stroke-width=\"1\" x1=\"60\" y1=\"295\" x2=\"790\" y2=\"295\"/>\n",
       "<line opacity=\"0.1\" stroke=\"#000000\" stroke-width=\"1\" x1=\"60\" y1=\"288\" x2=\"790\" y2=\"288\"/>\n",
       "<line opacity=\"0.1\" stroke=\"#000000\" stroke-width=\"1\" x1=\"60\" y1=\"281\" x2=\"790\" y2=\"281\"/>\n",
       "<line opacity=\"0.1\" stroke=\"#000000\" stroke-width=\"1\" x1=\"60\" y1=\"274\" x2=\"790\" y2=\"274\"/>\n",
       "<line opacity=\"0.1\" stroke=\"#000000\" stroke-width=\"1\" x1=\"60\" y1=\"267\" x2=\"790\" y2=\"267\"/>\n",
       "<line opacity=\"0.1\" stroke=\"#000000\" stroke-width=\"1\" x1=\"60\" y1=\"260\" x2=\"790\" y2=\"260\"/>\n",
       "<line opacity=\"0.1\" stroke=\"#000000\" stroke-width=\"1\" x1=\"60\" y1=\"253\" x2=\"790\" y2=\"253\"/>\n",
       "<line opacity=\"0.1\" stroke=\"#000000\" stroke-width=\"1\" x1=\"60\" y1=\"246\" x2=\"790\" y2=\"246\"/>\n",
       "<line opacity=\"0.1\" stroke=\"#000000\" stroke-width=\"1\" x1=\"60\" y1=\"239\" x2=\"790\" y2=\"239\"/>\n",
       "<line opacity=\"0.1\" stroke=\"#000000\" stroke-width=\"1\" x1=\"60\" y1=\"232\" x2=\"790\" y2=\"232\"/>\n",
       "<line opacity=\"0.1\" stroke=\"#000000\" stroke-width=\"1\" x1=\"60\" y1=\"225\" x2=\"790\" y2=\"225\"/>\n",
       "<line opacity=\"0.1\" stroke=\"#000000\" stroke-width=\"1\" x1=\"60\" y1=\"218\" x2=\"790\" y2=\"218\"/>\n",
       "<line opacity=\"0.1\" stroke=\"#000000\" stroke-width=\"1\" x1=\"60\" y1=\"211\" x2=\"790\" y2=\"211\"/>\n",
       "<line opacity=\"0.1\" stroke=\"#000000\" stroke-width=\"1\" x1=\"60\" y1=\"204\" x2=\"790\" y2=\"204\"/>\n",
       "<line opacity=\"0.1\" stroke=\"#000000\" stroke-width=\"1\" x1=\"60\" y1=\"197\" x2=\"790\" y2=\"197\"/>\n",
       "<line opacity=\"0.1\" stroke=\"#000000\" stroke-width=\"1\" x1=\"60\" y1=\"190\" x2=\"790\" y2=\"190\"/>\n",
       "<line opacity=\"0.1\" stroke=\"#000000\" stroke-width=\"1\" x1=\"60\" y1=\"183\" x2=\"790\" y2=\"183\"/>\n",
       "<line opacity=\"0.1\" stroke=\"#000000\" stroke-width=\"1\" x1=\"60\" y1=\"176\" x2=\"790\" y2=\"176\"/>\n",
       "<line opacity=\"0.1\" stroke=\"#000000\" stroke-width=\"1\" x1=\"60\" y1=\"169\" x2=\"790\" y2=\"169\"/>\n",
       "<line opacity=\"0.1\" stroke=\"#000000\" stroke-width=\"1\" x1=\"60\" y1=\"162\" x2=\"790\" y2=\"162\"/>\n",
       "<line opacity=\"0.1\" stroke=\"#000000\" stroke-width=\"1\" x1=\"60\" y1=\"155\" x2=\"790\" y2=\"155\"/>\n",
       "<line opacity=\"0.1\" stroke=\"#000000\" stroke-width=\"1\" x1=\"60\" y1=\"148\" x2=\"790\" y2=\"148\"/>\n",
       "<line opacity=\"0.1\" stroke=\"#000000\" stroke-width=\"1\" x1=\"60\" y1=\"141\" x2=\"790\" y2=\"141\"/>\n",
       "<line opacity=\"0.1\" stroke=\"#000000\" stroke-width=\"1\" x1=\"60\" y1=\"134\" x2=\"790\" y2=\"134\"/>\n",
       "<line opacity=\"0.1\" stroke=\"#000000\" stroke-width=\"1\" x1=\"60\" y1=\"126\" x2=\"790\" y2=\"126\"/>\n",
       "<line opacity=\"0.1\" stroke=\"#000000\" stroke-width=\"1\" x1=\"60\" y1=\"119\" x2=\"790\" y2=\"119\"/>\n",
       "<line opacity=\"0.1\" stroke=\"#000000\" stroke-width=\"1\" x1=\"60\" y1=\"112\" x2=\"790\" y2=\"112\"/>\n",
       "<line opacity=\"0.1\" stroke=\"#000000\" stroke-width=\"1\" x1=\"60\" y1=\"105\" x2=\"790\" y2=\"105\"/>\n",
       "<line opacity=\"0.1\" stroke=\"#000000\" stroke-width=\"1\" x1=\"60\" y1=\"98\" x2=\"790\" y2=\"98\"/>\n",
       "<line opacity=\"0.1\" stroke=\"#000000\" stroke-width=\"1\" x1=\"60\" y1=\"91\" x2=\"790\" y2=\"91\"/>\n",
       "<line opacity=\"0.1\" stroke=\"#000000\" stroke-width=\"1\" x1=\"60\" y1=\"84\" x2=\"790\" y2=\"84\"/>\n",
       "<line opacity=\"0.1\" stroke=\"#000000\" stroke-width=\"1\" x1=\"60\" y1=\"77\" x2=\"790\" y2=\"77\"/>\n",
       "<line opacity=\"0.1\" stroke=\"#000000\" stroke-width=\"1\" x1=\"60\" y1=\"70\" x2=\"790\" y2=\"70\"/>\n",
       "<line opacity=\"0.1\" stroke=\"#000000\" stroke-width=\"1\" x1=\"60\" y1=\"63\" x2=\"790\" y2=\"63\"/>\n",
       "<line opacity=\"0.1\" stroke=\"#000000\" stroke-width=\"1\" x1=\"60\" y1=\"56\" x2=\"790\" y2=\"56\"/>\n",
       "<line opacity=\"0.1\" stroke=\"#000000\" stroke-width=\"1\" x1=\"60\" y1=\"49\" x2=\"790\" y2=\"49\"/>\n",
       "<text x=\"10\" y=\"297\" dy=\"0.76em\" text-anchor=\"middle\" font-family=\"sans-serif\" font-size=\"9.67741935483871\" opacity=\"1\" fill=\"#000000\" transform=\"rotate(270, 10, 297)\">\n",
       "Cumulative number of instantiations\n",
       "</text>\n",
       "<text x=\"425\" y=\"590\" dy=\"-0.5ex\" text-anchor=\"middle\" font-family=\"sans-serif\" font-size=\"9.67741935483871\" opacity=\"1\" fill=\"#000000\">\n",
       "Time (line number)\n",
       "</text>\n",
       "<line opacity=\"0.2\" stroke=\"#000000\" stroke-width=\"1\" x1=\"60\" y1=\"549\" x2=\"60\" y2=\"44\"/>\n",
       "<line opacity=\"0.2\" stroke=\"#000000\" stroke-width=\"1\" x1=\"142\" y1=\"549\" x2=\"142\" y2=\"44\"/>\n",
       "<line opacity=\"0.2\" stroke=\"#000000\" stroke-width=\"1\" x1=\"224\" y1=\"549\" x2=\"224\" y2=\"44\"/>\n",
       "<line opacity=\"0.2\" stroke=\"#000000\" stroke-width=\"1\" x1=\"307\" y1=\"549\" x2=\"307\" y2=\"44\"/>\n",
       "<line opacity=\"0.2\" stroke=\"#000000\" stroke-width=\"1\" x1=\"389\" y1=\"549\" x2=\"389\" y2=\"44\"/>\n",
       "<line opacity=\"0.2\" stroke=\"#000000\" stroke-width=\"1\" x1=\"471\" y1=\"549\" x2=\"471\" y2=\"44\"/>\n",
       "<line opacity=\"0.2\" stroke=\"#000000\" stroke-width=\"1\" x1=\"554\" y1=\"549\" x2=\"554\" y2=\"44\"/>\n",
       "<line opacity=\"0.2\" stroke=\"#000000\" stroke-width=\"1\" x1=\"636\" y1=\"549\" x2=\"636\" y2=\"44\"/>\n",
       "<line opacity=\"0.2\" stroke=\"#000000\" stroke-width=\"1\" x1=\"718\" y1=\"549\" x2=\"718\" y2=\"44\"/>\n",
       "<line opacity=\"0.2\" stroke=\"#000000\" stroke-width=\"1\" x1=\"60\" y1=\"549\" x2=\"790\" y2=\"549\"/>\n",
       "<line opacity=\"0.2\" stroke=\"#000000\" stroke-width=\"1\" x1=\"60\" y1=\"478\" x2=\"790\" y2=\"478\"/>\n",
       "<line opacity=\"0.2\" stroke=\"#000000\" stroke-width=\"1\" x1=\"60\" y1=\"408\" x2=\"790\" y2=\"408\"/>\n",
       "<line opacity=\"0.2\" stroke=\"#000000\" stroke-width=\"1\" x1=\"60\" y1=\"337\" x2=\"790\" y2=\"337\"/>\n",
       "<line opacity=\"0.2\" stroke=\"#000000\" stroke-width=\"1\" x1=\"60\" y1=\"267\" x2=\"790\" y2=\"267\"/>\n",
       "<line opacity=\"0.2\" stroke=\"#000000\" stroke-width=\"1\" x1=\"60\" y1=\"197\" x2=\"790\" y2=\"197\"/>\n",
       "<line opacity=\"0.2\" stroke=\"#000000\" stroke-width=\"1\" x1=\"60\" y1=\"126\" x2=\"790\" y2=\"126\"/>\n",
       "<line opacity=\"0.2\" stroke=\"#000000\" stroke-width=\"1\" x1=\"60\" y1=\"56\" x2=\"790\" y2=\"56\"/>\n",
       "<polyline fill=\"none\" opacity=\"1\" stroke=\"#000000\" stroke-width=\"1\" points=\"59,45 59,550 \"/>\n",
       "<text x=\"50\" y=\"549\" dy=\"0.5ex\" text-anchor=\"end\" font-family=\"sans-serif\" font-size=\"9.67741935483871\" opacity=\"1\" fill=\"#000000\">\n",
       "0\n",
       "</text>\n",
       "<polyline fill=\"none\" opacity=\"1\" stroke=\"#000000\" stroke-width=\"1\" points=\"54,549 59,549 \"/>\n",
       "<text x=\"50\" y=\"478\" dy=\"0.5ex\" text-anchor=\"end\" font-family=\"sans-serif\" font-size=\"9.67741935483871\" opacity=\"1\" fill=\"#000000\">\n",
       "50\n",
       "</text>\n",
       "<polyline fill=\"none\" opacity=\"1\" stroke=\"#000000\" stroke-width=\"1\" points=\"54,478 59,478 \"/>\n",
       "<text x=\"50\" y=\"408\" dy=\"0.5ex\" text-anchor=\"end\" font-family=\"sans-serif\" font-size=\"9.67741935483871\" opacity=\"1\" fill=\"#000000\">\n",
       "100\n",
       "</text>\n",
       "<polyline fill=\"none\" opacity=\"1\" stroke=\"#000000\" stroke-width=\"1\" points=\"54,408 59,408 \"/>\n",
       "<text x=\"50\" y=\"337\" dy=\"0.5ex\" text-anchor=\"end\" font-family=\"sans-serif\" font-size=\"9.67741935483871\" opacity=\"1\" fill=\"#000000\">\n",
       "150\n",
       "</text>\n",
       "<polyline fill=\"none\" opacity=\"1\" stroke=\"#000000\" stroke-width=\"1\" points=\"54,337 59,337 \"/>\n",
       "<text x=\"50\" y=\"267\" dy=\"0.5ex\" text-anchor=\"end\" font-family=\"sans-serif\" font-size=\"9.67741935483871\" opacity=\"1\" fill=\"#000000\">\n",
       "200\n",
       "</text>\n",
       "<polyline fill=\"none\" opacity=\"1\" stroke=\"#000000\" stroke-width=\"1\" points=\"54,267 59,267 \"/>\n",
       "<text x=\"50\" y=\"197\" dy=\"0.5ex\" text-anchor=\"end\" font-family=\"sans-serif\" font-size=\"9.67741935483871\" opacity=\"1\" fill=\"#000000\">\n",
       "250\n",
       "</text>\n",
       "<polyline fill=\"none\" opacity=\"1\" stroke=\"#000000\" stroke-width=\"1\" points=\"54,197 59,197 \"/>\n",
       "<text x=\"50\" y=\"126\" dy=\"0.5ex\" text-anchor=\"end\" font-family=\"sans-serif\" font-size=\"9.67741935483871\" opacity=\"1\" fill=\"#000000\">\n",
       "300\n",
       "</text>\n",
       "<polyline fill=\"none\" opacity=\"1\" stroke=\"#000000\" stroke-width=\"1\" points=\"54,126 59,126 \"/>\n",
       "<text x=\"50\" y=\"56\" dy=\"0.5ex\" text-anchor=\"end\" font-family=\"sans-serif\" font-size=\"9.67741935483871\" opacity=\"1\" fill=\"#000000\">\n",
       "350\n",
       "</text>\n",
       "<polyline fill=\"none\" opacity=\"1\" stroke=\"#000000\" stroke-width=\"1\" points=\"54,56 59,56 \"/>\n",
       "<polyline fill=\"none\" opacity=\"1\" stroke=\"#000000\" stroke-width=\"1\" points=\"60,550 790,550 \"/>\n",
       "<text x=\"60\" y=\"560\" dy=\"0.76em\" text-anchor=\"middle\" font-family=\"sans-serif\" font-size=\"9.67741935483871\" opacity=\"1\" fill=\"#000000\">\n",
       "0\n",
       "</text>\n",
       "<polyline fill=\"none\" opacity=\"1\" stroke=\"#000000\" stroke-width=\"1\" points=\"60,550 60,555 \"/>\n",
       "<text x=\"142\" y=\"560\" dy=\"0.76em\" text-anchor=\"middle\" font-family=\"sans-serif\" font-size=\"9.67741935483871\" opacity=\"1\" fill=\"#000000\">\n",
       "50000\n",
       "</text>\n",
       "<polyline fill=\"none\" opacity=\"1\" stroke=\"#000000\" stroke-width=\"1\" points=\"142,550 142,555 \"/>\n",
       "<text x=\"224\" y=\"560\" dy=\"0.76em\" text-anchor=\"middle\" font-family=\"sans-serif\" font-size=\"9.67741935483871\" opacity=\"1\" fill=\"#000000\">\n",
       "100000\n",
       "</text>\n",
       "<polyline fill=\"none\" opacity=\"1\" stroke=\"#000000\" stroke-width=\"1\" points=\"224,550 224,555 \"/>\n",
       "<text x=\"307\" y=\"560\" dy=\"0.76em\" text-anchor=\"middle\" font-family=\"sans-serif\" font-size=\"9.67741935483871\" opacity=\"1\" fill=\"#000000\">\n",
       "150000\n",
       "</text>\n",
       "<polyline fill=\"none\" opacity=\"1\" stroke=\"#000000\" stroke-width=\"1\" points=\"307,550 307,555 \"/>\n",
       "<text x=\"389\" y=\"560\" dy=\"0.76em\" text-anchor=\"middle\" font-family=\"sans-serif\" font-size=\"9.67741935483871\" opacity=\"1\" fill=\"#000000\">\n",
       "200000\n",
       "</text>\n",
       "<polyline fill=\"none\" opacity=\"1\" stroke=\"#000000\" stroke-width=\"1\" points=\"389,550 389,555 \"/>\n",
       "<text x=\"471\" y=\"560\" dy=\"0.76em\" text-anchor=\"middle\" font-family=\"sans-serif\" font-size=\"9.67741935483871\" opacity=\"1\" fill=\"#000000\">\n",
       "250000\n",
       "</text>\n",
       "<polyline fill=\"none\" opacity=\"1\" stroke=\"#000000\" stroke-width=\"1\" points=\"471,550 471,555 \"/>\n",
       "<text x=\"554\" y=\"560\" dy=\"0.76em\" text-anchor=\"middle\" font-family=\"sans-serif\" font-size=\"9.67741935483871\" opacity=\"1\" fill=\"#000000\">\n",
       "300000\n",
       "</text>\n",
       "<polyline fill=\"none\" opacity=\"1\" stroke=\"#000000\" stroke-width=\"1\" points=\"554,550 554,555 \"/>\n",
       "<text x=\"636\" y=\"560\" dy=\"0.76em\" text-anchor=\"middle\" font-family=\"sans-serif\" font-size=\"9.67741935483871\" opacity=\"1\" fill=\"#000000\">\n",
       "350000\n",
       "</text>\n",
       "<polyline fill=\"none\" opacity=\"1\" stroke=\"#000000\" stroke-width=\"1\" points=\"636,550 636,555 \"/>\n",
       "<text x=\"718\" y=\"560\" dy=\"0.76em\" text-anchor=\"middle\" font-family=\"sans-serif\" font-size=\"9.67741935483871\" opacity=\"1\" fill=\"#000000\">\n",
       "400000\n",
       "</text>\n",
       "<polyline fill=\"none\" opacity=\"1\" stroke=\"#000000\" stroke-width=\"1\" points=\"718,550 718,555 \"/>\n",
       "<polyline fill=\"none\" opacity=\"1\" stroke=\"#FFE119\" stroke-width=\"1\" points=\"213,549 214,547 214,546 241,544 242,543 243,541 245,540 245,539 246,537 249,536 250,534 252,533 254,532 254,530 255,529 255,527 280,526 281,525 281,523 285,522 285,520 285,519 286,518 289,516 289,515 315,513 316,512 317,511 320,509 322,508 322,506 322,505 323,503 323,502 325,501 325,499 325,498 326,496 327,495 327,494 328,492 329,491 329,489 330,488 330,487 330,485 331,484 331,482 331,481 364,480 365,478 365,477 365,475 365,474 366,473 366,471 367,470 367,468 367,467 367,466 367,464 367,463 367,461 367,460 367,458 367,457 367,456 367,454 367,453 367,451 368,450 368,449 369,447 369,446 369,444 370,443 370,442 370,440 370,439 370,437 370,436 370,435 370,433 370,432 370,430 370,429 370,428 371,426 371,425 371,423 372,422 372,420 373,419 374,418 374,416 375,415 375,413 375,412 390,411 390,409 390,408 391,406 391,405 391,404 392,402 392,401 392,399 392,398 392,397 392,395 392,394 392,392 397,391 397,390 398,388 414,387 414,385 415,384 416,383 417,381 418,380 431,378 432,377 432,375 433,374 434,373 442,371 442,370 445,368 445,367 447,366 448,364 449,363 450,361 450,360 450,359 450,357 459,356 463,354 463,353 463,352 471,350 471,349 471,347 472,346 472,345 472,343 473,342 473,340 474,339 478,337 479,336 493,335 493,333 495,332 497,330 498,329 499,328 499,326 499,325 503,323 504,322 504,321 504,319 508,318 509,316 509,315 509,314 511,312 511,311 514,309 514,308 524,307 525,305 526,304 527,302 527,301 528,300 528,298 528,297 529,295 529,294 529,292 529,291 529,290 529,288 529,287 530,285 530,284 531,283 531,281 531,280 532,278 534,277 534,276 534,274 535,273 535,271 535,270 536,269 536,267 537,266 537,264 537,263 538,262 538,260 538,259 551,257 551,256 552,255 552,253 552,252 552,250 552,249 552,247 552,246 552,245 553,243 553,242 553,240 553,239 553,238 553,236 553,235 553,233 553,232 557,231 557,229 558,228 558,226 558,225 558,224 572,222 572,221 573,219 574,218 574,217 574,215 577,214 580,212 580,211 581,209 581,208 582,207 582,205 583,204 584,202 584,201 585,200 585,198 594,197 595,195 596,194 596,193 597,191 597,190 597,188 598,187 609,186 609,184 611,183 611,181 611,180 611,179 619,177 619,176 624,174 624,173 625,172 625,170 632,169 632,167 636,166 637,164 637,163 638,162 638,160 639,159 640,157 641,156 641,155 642,153 655,152 656,150 656,149 656,148 657,146 658,145 673,143 673,142 674,141 677,139 679,138 679,136 679,135 680,134 696,132 696,131 697,129 697,128 697,126 697,125 698,124 714,122 717,121 720,119 721,118 721,117 735,115 736,114 736,112 736,111 737,110 738,108 739,107 739,105 752,104 758,103 758,101 759,100 759,98 772,97 774,96 774,94 774,93 774,91 775,90 785,89 785,87 \"/>\n",
       "<polyline fill=\"none\" opacity=\"1\" stroke=\"#0082C8\" stroke-width=\"1\" points=\"213,549 213,547 214,546 240,544 241,543 242,541 245,540 245,539 245,537 249,536 252,534 253,533 254,532 254,530 255,529 280,527 280,526 281,525 284,523 285,522 285,520 285,519 288,518 288,516 289,515 315,513 316,512 316,511 318,509 319,508 321,506 322,505 322,503 322,502 323,501 325,499 325,498 325,496 325,495 326,494 326,492 327,491 328,489 329,488 329,487 330,485 330,484 330,482 331,481 364,480 364,478 365,477 365,475 366,474 366,473 366,471 367,470 367,468 367,467 368,466 368,464 368,463 368,461 368,460 368,458 368,457 368,456 368,454 368,453 368,451 368,450 368,449 369,447 370,446 370,444 370,443 371,442 371,440 372,439 373,437 374,436 374,435 374,433 375,432 375,430 389,429 390,428 390,426 391,425 391,423 391,422 391,420 393,419 397,418 397,416 398,415 398,413 398,412 398,411 398,409 398,408 414,406 414,405 415,404 416,402 418,401 431,399 431,398 432,397 433,395 434,394 442,392 445,391 447,390 447,388 449,387 459,385 463,384 463,383 463,381 471,380 471,378 471,377 472,375 472,374 472,373 472,371 473,370 473,368 474,367 478,366 493,364 493,363 493,361 494,360 497,359 497,357 498,356 499,354 502,353 504,352 504,350 508,349 509,347 511,346 511,345 513,343 525,342 526,340 526,339 527,337 527,336 529,335 529,333 529,332 530,330 530,329 531,328 534,326 534,325 534,323 535,322 535,321 535,319 536,318 536,316 536,315 537,314 537,312 537,311 537,309 537,308 537,307 537,305 537,304 537,302 537,301 537,300 551,298 551,297 552,295 552,294 552,292 553,291 553,290 553,288 553,287 553,285 557,284 557,283 558,281 558,280 558,278 572,277 572,276 572,274 573,273 574,271 575,270 577,269 580,267 580,266 581,264 581,263 582,262 582,260 582,259 583,257 583,256 584,255 585,253 585,252 585,250 585,249 593,247 594,246 594,245 594,243 596,242 596,240 597,239 597,238 608,236 609,235 609,233 610,232 610,231 611,229 611,228 611,226 619,225 623,224 624,222 624,221 625,219 632,218 636,217 637,215 637,214 637,212 637,211 638,209 640,208 641,207 641,205 641,204 641,202 642,201 655,200 655,198 656,197 656,195 657,194 673,193 673,191 674,190 674,188 677,187 677,186 679,184 679,183 680,181 680,180 680,179 696,177 696,176 696,174 697,173 697,172 697,170 714,169 717,167 720,166 720,164 721,163 721,162 721,160 735,159 735,157 736,156 736,155 736,153 738,152 739,150 752,149 758,148 759,146 759,145 759,143 759,142 770,141 770,139 771,138 773,136 773,135 774,134 774,132 774,131 775,129 775,128 775,126 785,125 \"/>\n",
       "<polyline fill=\"none\" opacity=\"1\" stroke=\"#F58230\" stroke-width=\"1\" points=\"256,549 256,547 260,546 260,544 262,543 263,541 264,540 265,539 266,537 266,536 267,534 268,533 269,532 269,530 282,529 291,527 335,526 376,525 376,523 377,522 377,520 377,519 378,518 379,516 380,515 381,513 381,512 382,511 382,509 383,508 383,506 384,505 384,503 385,502 421,501 425,499 438,498 439,496 457,495 458,494 469,492 470,491 538,489 539,488 539,487 540,485 540,484 540,482 541,481 541,480 542,478 542,477 542,475 542,474 543,473 544,471 545,470 545,468 547,467 547,466 547,464 586,463 586,461 587,460 588,458 588,457 588,456 588,454 589,453 589,451 590,450 590,449 590,447 591,446 599,444 599,443 600,442 601,440 601,439 601,437 602,436 602,435 602,433 603,432 603,430 603,429 604,428 605,426 605,425 607,423 607,422 607,420 612,419 612,418 613,416 614,415 614,413 614,412 615,411 615,409 615,408 616,406 616,405 616,404 617,402 618,401 619,399 620,398 621,397 621,395 622,394 626,392 626,391 627,390 628,388 628,387 628,385 628,384 629,383 629,381 630,380 630,378 630,377 631,375 632,374 633,373 634,371 635,370 635,368 642,367 643,366 644,364 644,363 644,361 645,360 645,359 645,357 646,356 646,354 647,353 647,352 647,350 650,349 651,347 653,346 653,345 654,343 654,342 682,340 682,339 683,337 684,336 684,335 684,333 685,332 685,330 685,329 686,328 686,326 687,325 687,323 687,322 690,321 692,319 693,318 693,316 694,315 694,314 722,312 722,311 723,309 723,308 724,307 724,305 725,304 725,302 726,301 726,300 726,298 727,297 728,295 729,294 730,292 730,291 731,290 731,288 731,287 733,285 757,284 757,283 760,281 760,280 761,278 761,277 762,276 762,274 762,273 763,271 763,270 764,269 764,267 764,266 764,264 776,263 776,262 777,260 777,259 777,257 778,256 778,255 778,253 779,252 779,250 780,249 780,247 780,246 780,245 781,243 784,242 786,240 786,239 788,238 788,236 789,235 \"/>\n",
       "<polyline fill=\"none\" opacity=\"1\" stroke=\"#FABEBE\" stroke-width=\"1\" points=\"257,549 257,547 287,546 316,544 318,543 318,541 318,540 319,539 322,537 322,536 322,534 323,533 325,532 326,530 326,529 326,527 326,526 327,525 327,523 327,522 327,520 328,519 330,518 332,516 332,515 337,513 337,512 337,511 337,509 337,508 338,506 338,505 338,503 375,502 375,501 393,499 397,498 415,496 418,495 442,494 442,492 443,491 443,489 443,488 450,487 451,485 477,484 477,482 478,481 498,480 500,478 501,477 501,475 501,474 503,473 503,471 503,470 503,468 509,467 509,466 510,464 510,463 510,461 510,460 512,458 512,457 512,456 512,454 512,453 512,451 514,450 538,449 545,447 555,446 555,444 555,443 573,442 574,440 575,439 575,437 586,436 604,435 612,433 622,432 642,430 642,429 656,428 657,426 657,425 676,423 680,422 680,420 682,419 682,418 693,416 693,415 693,413 693,412 697,411 697,409 716,408 716,406 721,405 721,404 721,402 721,401 722,399 722,398 722,397 722,395 737,394 737,392 737,391 738,390 738,388 759,387 760,385 760,384 760,383 775,381 \"/>\n",
       "<polyline fill=\"none\" opacity=\"1\" stroke=\"#E6BEFF\" stroke-width=\"1\" points=\"451,549 451,547 \"/>\n",
       "<polyline fill=\"none\" opacity=\"1\" stroke=\"#800000\" stroke-width=\"1\" points=\"290,549 292,547 293,546 293,544 295,543 297,541 298,540 298,539 299,537 300,536 301,534 302,533 303,532 304,530 306,529 334,527 398,526 399,525 400,523 401,522 402,520 402,519 403,518 404,516 404,515 405,513 405,512 406,511 407,509 408,508 409,506 409,505 420,503 423,502 437,501 438,499 479,498 480,496 480,495 482,494 483,492 483,491 484,489 484,488 485,487 485,485 486,484 486,482 488,481 488,480 489,478 490,477 490,475 491,474 559,473 559,471 560,470 561,468 562,467 562,466 563,464 563,463 564,461 564,460 565,458 565,457 567,456 567,454 568,453 569,451 569,450 658,449 659,447 659,446 661,444 662,443 662,442 663,440 663,439 663,437 664,436 665,435 665,433 667,432 667,430 668,429 670,428 671,426 671,425 696,423 698,422 699,420 699,419 701,418 702,416 703,415 703,413 704,412 704,411 705,409 705,408 706,406 707,405 708,404 709,402 710,401 711,399 711,398 739,397 740,395 741,394 742,392 742,391 742,390 743,388 743,387 744,385 744,384 745,383 745,381 747,380 747,378 748,377 749,375 749,374 750,373 \"/>\n",
       "<polyline fill=\"none\" opacity=\"1\" stroke=\"#000080\" stroke-width=\"1\" points=\"209,549 211,547 220,546 220,544 220,543 220,541 221,540 221,539 221,537 221,536 221,534 222,533 246,532 249,530 272,529 272,527 272,526 272,525 272,523 309,522 337,520 351,519 352,518 352,516 352,515 352,513 352,512 352,511 353,509 353,508 386,506 427,505 427,503 439,502 439,501 458,499 458,498 470,496 470,495 520,494 520,492 520,491 717,489 758,488 770,487 \"/>\n",
       "<polyline fill=\"none\" opacity=\"1\" stroke=\"#808080\" stroke-width=\"1\" points=\"224,549 225,547 225,546 241,544 242,543 243,541 249,540 249,539 252,537 252,536 258,534 258,533 258,532 258,530 263,529 263,527 286,526 287,525 287,523 310,522 311,520 311,519 311,518 312,516 317,515 317,513 321,512 321,511 336,509 336,508 346,506 346,505 346,503 347,502 347,501 347,499 347,498 347,496 348,495 348,494 348,492 348,491 349,489 349,488 349,487 349,485 349,484 349,482 349,481 350,480 350,478 350,477 350,475 386,474 392,473 415,471 416,470 417,468 426,467 426,466 432,464 433,463 435,461 437,460 437,458 437,457 437,456 437,454 437,453 437,451 452,450 456,449 456,447 456,446 456,444 456,443 456,442 456,440 457,439 457,437 468,436 468,435 468,433 468,432 469,430 469,429 469,428 469,426 469,425 469,423 469,422 469,420 476,419 518,418 518,416 518,415 519,413 519,412 519,411 519,409 519,408 519,406 519,405 525,404 526,402 532,401 608,399 619,398 631,397 636,395 677,394 754,392 758,391 769,390 769,388 \"/>\n",
       "<polyline fill=\"none\" opacity=\"1\" stroke=\"#000000\" stroke-width=\"1\" points=\"291,549 292,547 293,546 294,544 297,543 298,541 299,540 300,539 300,537 301,536 302,534 304,533 306,532 336,530 399,529 399,527 402,526 403,525 403,523 404,522 405,520 406,519 406,518 408,516 409,515 410,513 422,512 425,511 438,509 439,508 480,506 480,505 483,503 484,502 485,501 486,499 486,498 487,496 488,495 490,494 490,492 491,491 491,489 559,488 560,487 563,485 564,484 565,482 565,481 566,480 567,478 569,477 569,475 569,474 570,473 659,471 659,470 660,468 662,467 663,466 663,464 664,463 664,461 665,460 666,458 667,457 669,456 670,454 671,453 671,451 699,450 699,449 700,447 703,446 703,444 704,443 704,442 705,440 706,439 706,437 707,436 709,435 711,433 711,432 712,430 740,429 740,428 741,426 743,425 743,423 743,422 744,420 745,419 745,418 746,416 747,415 749,413 749,412 750,411 750,409 \"/>\n",
       "<polyline fill=\"none\" opacity=\"1\" stroke=\"#FFE119\" stroke-width=\"1\" points=\"314,549 314,547 328,546 332,544 448,543 448,541 451,540 494,539 494,537 497,536 498,534 498,533 500,532 501,530 502,529 503,527 503,526 503,525 503,523 503,522 503,520 508,519 508,518 509,516 510,515 510,513 512,512 512,511 512,509 512,508 512,506 512,505 572,503 573,502 573,501 574,499 575,498 675,496 675,495 715,494 715,492 753,491 753,489 \"/>\n",
       "<rect x=\"65\" y=\"50\" width=\"154\" height=\"165\" opacity=\"0.8\" fill=\"#FFFFFF\" stroke=\"none\"/>\n",
       "<rect x=\"65\" y=\"50\" width=\"154\" height=\"165\" opacity=\"1\" fill=\"none\" stroke=\"#000000\"/>\n",
       "<text x=\"105\" y=\"60\" dy=\"0.76em\" text-anchor=\"start\" font-family=\"sans-serif\" font-size=\"9.67741935483871\" opacity=\"1\" fill=\"#000000\">\n",
       "outputbpl.310:31\n",
       "</text>\n",
       "<text x=\"105\" y=\"75\" dy=\"0.76em\" text-anchor=\"start\" font-family=\"sans-serif\" font-size=\"9.67741935483871\" opacity=\"1\" fill=\"#000000\">\n",
       "outputbpl.1500:15\n",
       "</text>\n",
       "<text x=\"105\" y=\"90\" dy=\"0.76em\" text-anchor=\"start\" font-family=\"sans-serif\" font-size=\"9.67741935483871\" opacity=\"1\" fill=\"#000000\">\n",
       "outputbpl.8695:106\n",
       "</text>\n",
       "<text x=\"105\" y=\"105\" dy=\"0.76em\" text-anchor=\"start\" font-family=\"sans-serif\" font-size=\"9.67741935483871\" opacity=\"1\" fill=\"#000000\">\n",
       "outputbpl.11884:368\n",
       "</text>\n",
       "<text x=\"105\" y=\"120\" dy=\"0.76em\" text-anchor=\"start\" font-family=\"sans-serif\" font-size=\"9.67741935483871\" opacity=\"1\" fill=\"#000000\">\n",
       "k!125\n",
       "</text>\n",
       "<text x=\"105\" y=\"135\" dy=\"0.76em\" text-anchor=\"start\" font-family=\"sans-serif\" font-size=\"9.67741935483871\" opacity=\"1\" fill=\"#000000\">\n",
       "outputbpl.12033:72\n",
       "</text>\n",
       "<text x=\"105\" y=\"150\" dy=\"0.76em\" text-anchor=\"start\" font-family=\"sans-serif\" font-size=\"9.67741935483871\" opacity=\"1\" fill=\"#000000\">\n",
       "outputbpl.11687:20\n",
       "</text>\n",
       "<text x=\"105\" y=\"165\" dy=\"0.76em\" text-anchor=\"start\" font-family=\"sans-serif\" font-size=\"9.67741935483871\" opacity=\"1\" fill=\"#000000\">\n",
       "outputbpl.1502:15\n",
       "</text>\n",
       "<text x=\"105\" y=\"180\" dy=\"0.76em\" text-anchor=\"start\" font-family=\"sans-serif\" font-size=\"9.67741935483871\" opacity=\"1\" fill=\"#000000\">\n",
       "outputbpl.12027:157\n",
       "</text>\n",
       "<text x=\"105\" y=\"195\" dy=\"0.76em\" text-anchor=\"start\" font-family=\"sans-serif\" font-size=\"9.67741935483871\" opacity=\"1\" fill=\"#000000\">\n",
       "outputbpl.12045:397\n",
       "</text>\n",
       "<polyline fill=\"none\" opacity=\"1\" stroke=\"#FFE119\" stroke-width=\"1\" points=\"75,65 95,65 \"/>\n",
       "<polyline fill=\"none\" opacity=\"1\" stroke=\"#0082C8\" stroke-width=\"1\" points=\"75,80 95,80 \"/>\n",
       "<polyline fill=\"none\" opacity=\"1\" stroke=\"#F58230\" stroke-width=\"1\" points=\"75,95 95,95 \"/>\n",
       "<polyline fill=\"none\" opacity=\"1\" stroke=\"#FABEBE\" stroke-width=\"1\" points=\"75,110 95,110 \"/>\n",
       "<polyline fill=\"none\" opacity=\"1\" stroke=\"#E6BEFF\" stroke-width=\"1\" points=\"75,125 95,125 \"/>\n",
       "<polyline fill=\"none\" opacity=\"1\" stroke=\"#800000\" stroke-width=\"1\" points=\"75,140 95,140 \"/>\n",
       "<polyline fill=\"none\" opacity=\"1\" stroke=\"#000080\" stroke-width=\"1\" points=\"75,155 95,155 \"/>\n",
       "<polyline fill=\"none\" opacity=\"1\" stroke=\"#808080\" stroke-width=\"1\" points=\"75,170 95,170 \"/>\n",
       "<polyline fill=\"none\" opacity=\"1\" stroke=\"#000000\" stroke-width=\"1\" points=\"75,185 95,185 \"/>\n",
       "<polyline fill=\"none\" opacity=\"1\" stroke=\"#FFE119\" stroke-width=\"1\" points=\"75,200 95,200 \"/>\n",
       "</svg>\n",
       "</div>"
      ]
     },
     "execution_count": 32,
     "metadata": {},
     "output_type": "execute_result"
    }
   ],
   "source": [
    "let figure = evcxr_figure((800, 600), |root| {\n",
    "    root.fill(&WHITE);\n",
    "    let mut chart = ChartBuilder::on(&root)\n",
    "        .caption(\"Top 10 Quantifiers Instantiations\", (\"Arial\", 30).into_font())\n",
    "        .margin(10)\n",
    "        .x_label_area_size(40)\n",
    "        .y_label_area_size(50)\n",
    "        .build_cartesian_2d(0..max_ts, 0..max_count)?;\n",
    "\n",
    "    chart.configure_mesh().y_desc(\"Cumulative number of instantiations\").x_desc(\"Time (line number)\").draw()?;\n",
    "\n",
    "    for (j, (name, values)) in inst_tss.iter().take(10).enumerate() {\n",
    "        let color : PaletteColor<Palette9999> = PaletteColor::pick(j);\n",
    "        chart\n",
    "        .draw_series(\n",
    "            LineSeries::new(values.iter().enumerate().map(|(i, c)| (*c, i)), &color)\n",
    "        ).unwrap()\n",
    "        .label(name)\n",
    "        .legend(move |(x, y)| PathElement::new(vec![(x, y), (x + 20, y)], color.filled()));\n",
    "    }\n",
    "\n",
    "    chart.configure_series_labels()\n",
    "        .background_style(&WHITE.mix(0.8))\n",
    "        .border_style(&BLACK)\n",
    "        .position(SeriesLabelPosition::UpperLeft)\n",
    "        .draw()?;\n",
    "    Ok(())\n",
    "});\n",
    "figure"
   ]
  },
  {
   "cell_type": "code",
   "execution_count": 18,
   "metadata": {},
   "outputs": [
    {
     "data": {
      "text/plain": [
       "\"(QUANT ((v2 T@$Value) (v1 T@$Value)) (! (not (or (not (or ($IsEqual_stratified v1 v2) (not (or (= v1 v2) (not (or (not (= (l#$ValueArray (v#$Vector v1)) (l#$ValueArray (v#$Vector v2)))) (not (is v1)) (not (is v2)) (not (or ($IsEqual_level1 (Select_[$int]$Value (v#$ValueArray (v#$Vector v1)) (i!8!0 v2 v1)) (Select_[$int]$Value (v#$ValueArray (v#$Vector v2)) (i!8!0 v2 v1))) (<= (+ (l#$ValueArray (v#$Vector v1)) (* (- 1) (i!8!0 v2 v1))) 0) (not (>= (i!8!0 v2 v1) 0)))))))))) (not (or (= v1 v2) (not ($IsEqual_stratified v1 v2)) (not (or (not (= (l#$ValueArray (v#$Vector v1)) (l#$ValueArray (v#$Vector v2)))) (not (is v1)) (not (is v2)) (not (QUANT ((i Int)) (! (or ($IsEqual_level1 (Select_[$int]$Value (v#$ValueArray (v#$Vector _2)) i) (Select_[$int]$Value (v#$ValueArray (v#$Vector v1)) i)) (>= (+ i (* (- 1) (l#$ValueArray (v#$Vector _2)))) 0) (not (>= i 0))) :qid outputbpl.315:14 :pattern (pattern (Select_[$int]$Value (v#$ValueArray (v#$Vector _2)) i)) :pattern (pattern (Select_[$int]$Value (v#$ValueArray (v#$Vector v1)) i))))))))))) :qid outputbpl.310:31 :pattern (pattern ($IsEqual_stratified v1 v2))))\""
      ]
     },
     "execution_count": 18,
     "metadata": {},
     "output_type": "execute_result"
    }
   ],
   "source": [
    "// Top instantiated quantified term.\n",
    "model.id2s(&top.peek()?.1)"
   ]
  },
  {
   "cell_type": "code",
   "execution_count": 19,
   "metadata": {},
   "outputs": [
    {
     "data": {
      "text/plain": [
       "(359, #4429!9)"
      ]
     },
     "execution_count": 19,
     "metadata": {},
     "output_type": "execute_result"
    }
   ],
   "source": [
    "// Final counter and `Ident` value for the top term.\n",
    "top.peek()?"
   ]
  },
  {
   "cell_type": "code",
   "execution_count": 23,
   "metadata": {},
   "outputs": [
    {
     "data": {
      "text/plain": [
       "Quant { name: \"outputbpl.310:31\", params: 2, triggers: [#284], body: #4443, var_names: Some([VarName { name: Symbol(\"v2\"), sort: Symbol(\"T@$Value\") }, VarName { name: Symbol(\"v1\"), sort: Symbol(\"T@$Value\") }]) }"
      ]
     },
     "execution_count": 23,
     "metadata": {},
     "output_type": "execute_result"
    }
   ],
   "source": [
    "// Introspect a particular term, given by handle.\n",
    "// Note that the version number `!9` was added during parsing for disambiguation and is not present in the original log file.\n",
    "model.term(&Ident::from_str(\"#4429!9\")?)?"
   ]
  },
  {
   "cell_type": "code",
   "execution_count": null,
   "metadata": {},
   "outputs": [],
   "source": []
  }
 ],
 "metadata": {
  "kernelspec": {
   "display_name": "Rust",
   "language": "rust",
   "name": "rust"
  },
  "language_info": {
   "codemirror_mode": "rust",
   "file_extension": ".rs",
   "mimetype": "text/rust",
   "name": "Rust",
   "pygment_lexer": "rust",
   "version": ""
  }
 },
 "nbformat": 4,
 "nbformat_minor": 4
}
